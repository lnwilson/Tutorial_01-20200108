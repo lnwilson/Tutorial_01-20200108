{
 "cells": [
  {
   "cell_type": "markdown",
   "metadata": {
    "editable": false
   },
   "source": [
    "# Tutorial 1: Introduction to Jupyter Notebooks and R commands #\n"
   ]
  },
  {
   "cell_type": "markdown",
   "metadata": {
    "editable": false
   },
   "source": [
    "## Objectives: ##\n",
    "To become familiar with how to use R commands in Jupyter notebooks in order to complete your STAT1770 work.\n",
    "Including:\n",
    "* The difference between a code block and a markdown block.\n",
    "* How to use the code blocks as a calculator.\n",
    "* All the R commands presented in this and future tutorials can be found in the \"R commands used so far\" document on moodle."
   ]
  },
  {
   "cell_type": "markdown",
   "metadata": {
    "editable": false
   },
   "source": [
    "## Instructions: ##\n",
    "Follow the directions to learn how to use a Jupyter Notebook\n",
    "* Enter code in code blocks.\n",
    "* Type answers in the markdown blocks."
   ]
  },
  {
   "cell_type": "markdown",
   "metadata": {
    "editable": false
   },
   "source": [
    "## Formulae: ##\n",
    "No formlae are required for this tutorial."
   ]
  },
  {
   "cell_type": "markdown",
   "metadata": {
    "editable": false
   },
   "source": [
    "## Tools: ##"
   ]
  },
  {
   "cell_type": "code",
   "execution_count": 6,
   "metadata": {
    "editable": false
   },
   "outputs": [],
   "source": [
    "source(\"http://www.openintro.org/stat/data/present.R\")\n",
    "source(\"http://www.openintro.org/stat/data/arbuthnot.R\")"
   ]
  },
  {
   "cell_type": "markdown",
   "metadata": {
    "editable": false
   },
   "source": [
    "## Data Information: ##\n",
    "\n",
    "### Data Set 1: ###\n",
    "These data come from a report by the Centers for Disease Control.\n",
    "\n",
    "#### Name: #### \n",
    "* `present` - birth data from 1940 to 2002\n",
    "\n",
    "#### Variables: ####\n",
    "* `year` - the year of the births recorded\n",
    "* `boys` - the number of male births that year\n",
    "* `girls` - the number of female births that year\n",
    "\n",
    "### Data Set 2: ###\n",
    "These data contains the number of christenings for boys and girls from 1629 to 1710.\n",
    "#### Name: #### \n",
    "* `arbuthnot` - birth data from 1629 to 1710\n",
    "\n",
    "#### Variables: ####\n",
    "* `year` - the year of the births recorded\n",
    "* `boys` - the number of male births that year\n",
    "* `girls` - the number of female births that year\n"
   ]
  },
  {
   "cell_type": "markdown",
   "metadata": {
    "editable": false
   },
   "source": [
    "## Question 1. Markdown cells vs. Code cells ##"
   ]
  },
  {
   "cell_type": "markdown",
   "metadata": {
    "editable": false
   },
   "source": [
    "### a. Markdown Cells ###\n",
    "* A markdown cell is where you write about your answers.  \n",
    "* You can edit it by double clicking, or pressing enter.\n",
    "* You can make it look nice again by pressing shift + enter.\n",
    "* You can edit the text in this box by double clicking and typing.\n",
    "* NOTE: There are a variety of methods to make your text look nice, but for our purposes plain text is fine. **\n",
    "\n",
    "Try typing in the Markdown cell below."
   ]
  },
  {
   "cell_type": "markdown",
   "metadata": {
    "editable": false
   },
   "source": [
    "### Answer 1a. ##"
   ]
  },
  {
   "cell_type": "markdown",
   "metadata": {},
   "source": [
    "This is a markdown cell."
   ]
  },
  {
   "cell_type": "markdown",
   "metadata": {
    "editable": false
   },
   "source": [
    "\n",
    "### b. Code Cells  ###\n",
    "\n",
    "Below are three code cells.  \n",
    "\n",
    "Code cells are where we will use R to compute statistics or produce plots.  Or as I have done here do some simple arithmetic.\n",
    "\n",
    "You can double click on a code cell to edit it.\n",
    "\n",
    "Use shift + enter will run the code.\n",
    "\n",
    "You can add additional blocks below the current block by clicking on the `+` in the toolbar at the top of this window. Alternately, you can use the Insert menu to add blocks.\n",
    "\n",
    "* Run the code in the first two cells.\n",
    "* In the last cell enter another arithmetic statement and run it.\n",
    "* Add a fourth block below the other three and enter the formula $\\sqrt{4^2 -5}$ by using the `sqrt(`&lt;arithmetic statement&gt;`)` command."
   ]
  },
  {
   "cell_type": "markdown",
   "metadata": {
    "editable": false
   },
   "source": [
    "### Answer 1b."
   ]
  },
  {
   "cell_type": "code",
   "execution_count": null,
   "metadata": {
    "editable": false
   },
   "outputs": [],
   "source": [
    "4+5*2"
   ]
  },
  {
   "cell_type": "code",
   "execution_count": null,
   "metadata": {
    "editable": false
   },
   "outputs": [],
   "source": [
    "     (2 +    5)^2"
   ]
  },
  {
   "cell_type": "code",
   "execution_count": null,
   "metadata": {},
   "outputs": [],
   "source": [
    "Put your arithmetic statement here."
   ]
  },
  {
   "cell_type": "markdown",
   "metadata": {
    "editable": false
   },
   "source": [
    "## Question 2. Loading data ##"
   ]
  },
  {
   "cell_type": "markdown",
   "metadata": {
    "editable": false
   },
   "source": [
    "Under the tools section above are the commands to load data.\n",
    "\n",
    "* Load the data by running the code in the code block below the tools title.\n",
    "* When you run the code block the data will be loaded. this is a background process, nothing will appear on the notebook. You can think of it as the code being recorded on the back of the notebook page.\n",
    "\n",
    "To see what data has been loaded run the commands below, they will some of the data below.\n"
   ]
  },
  {
   "cell_type": "markdown",
   "metadata": {
    "editable": false
   },
   "source": [
    "## Answer 2."
   ]
  },
  {
   "cell_type": "code",
   "execution_count": null,
   "metadata": {
    "editable": false
   },
   "outputs": [],
   "source": [
    "present"
   ]
  },
  {
   "cell_type": "code",
   "execution_count": null,
   "metadata": {
    "editable": false
   },
   "outputs": [],
   "source": [
    "arbuthnot"
   ]
  },
  {
   "cell_type": "markdown",
   "metadata": {
    "editable": false
   },
   "source": [
    "## Question 3: Displaying information about a data set"
   ]
  },
  {
   "cell_type": "markdown",
   "metadata": {
    "editable": false
   },
   "source": [
    "There are several simple commands that can be used to display the data set or things about the data set.\n",
    "* a. Use the `head(`&lt;dataName&gt;`)` to display the first six lines of each data set.\n",
    "* b. Use the `tail(`&lt;dataName&gt;`)` to display the last six lines of each data set.\n",
    "* c. Use the `dim(`&lt;dataName$gt;`)` to display the dimensions of each data set, that is how many rows and columns are in each data set.\n",
    "* d. Which data set is larger?"
   ]
  },
  {
   "cell_type": "markdown",
   "metadata": {
    "editable": false
   },
   "source": [
    "## Answer 3a. ##"
   ]
  },
  {
   "cell_type": "code",
   "execution_count": null,
   "metadata": {},
   "outputs": [],
   "source": [
    "Type code in this block."
   ]
  },
  {
   "cell_type": "markdown",
   "metadata": {
    "editable": false
   },
   "source": [
    "## Answer 3b. ##"
   ]
  },
  {
   "cell_type": "code",
   "execution_count": null,
   "metadata": {},
   "outputs": [],
   "source": [
    "Type code in this block."
   ]
  },
  {
   "cell_type": "markdown",
   "metadata": {
    "editable": false
   },
   "source": [
    "## Answer 3c."
   ]
  },
  {
   "cell_type": "code",
   "execution_count": null,
   "metadata": {},
   "outputs": [],
   "source": [
    "Type code in this block."
   ]
  },
  {
   "cell_type": "markdown",
   "metadata": {
    "editable": false
   },
   "source": [
    "## Answer 3d."
   ]
  },
  {
   "cell_type": "markdown",
   "metadata": {},
   "source": [
    "Type your answer in this block."
   ]
  },
  {
   "cell_type": "markdown",
   "metadata": {
    "editable": false
   },
   "source": [
    "## Question 4. Displaying information about a variable ##\n"
   ]
  },
  {
   "cell_type": "markdown",
   "metadata": {
    "editable": false
   },
   "source": [
    "To display information about a variable from a data set you need to indicate where the variable can be found. \n",
    "\n",
    "The format is &lt;dataName&gt;\\$&lt;varName&gt;.\n",
    "\n",
    "* a. Use the commands `min(`&lt;dataName&gt;\\$&lt;varName&gt;`)` and `max(`&lt;dataName&gt;\\$&lt;varName&gt;`)` to determine the minimum and maximum of all the variables in both data sets.<br>- Use this information to report the range of each variable.\n",
    "\n",
    "* b. Use the command `mean(`&lt;dataName&gt;\\$&lt;varName&gt;`)` mean of number of births for each sex in both sets of data.<br>- Use this information to determine whether the mean number of male births is greater than those of female births in both data sets.\n",
    "\n",
    "* c. Consider the two sets of data. are they on a similar scale? Are they on a similar timeframe?"
   ]
  },
  {
   "cell_type": "markdown",
   "metadata": {
    "editable": false
   },
   "source": [
    "## Answer 4a."
   ]
  },
  {
   "cell_type": "code",
   "execution_count": null,
   "metadata": {},
   "outputs": [],
   "source": [
    "Type code in this block."
   ]
  },
  {
   "cell_type": "markdown",
   "metadata": {},
   "source": [
    "Type your answer in this block."
   ]
  },
  {
   "cell_type": "markdown",
   "metadata": {
    "editable": false
   },
   "source": [
    "## Answer 4b."
   ]
  },
  {
   "cell_type": "code",
   "execution_count": null,
   "metadata": {},
   "outputs": [],
   "source": [
    "Type code in this block."
   ]
  },
  {
   "cell_type": "markdown",
   "metadata": {},
   "source": [
    "Type your answer in this block."
   ]
  },
  {
   "cell_type": "markdown",
   "metadata": {
    "editable": false
   },
   "source": [
    "## Answer 4c."
   ]
  },
  {
   "cell_type": "markdown",
   "metadata": {},
   "source": [
    "Type your answer in this block."
   ]
  },
  {
   "cell_type": "markdown",
   "metadata": {
    "editable": false
   },
   "source": [
    "## Question 5. Making a new variable\n",
    "    \n",
    "    "
   ]
  },
  {
   "cell_type": "markdown",
   "metadata": {
    "editable": false
   },
   "source": [
    "We would like to consider the proportion of male births for both data sets.<br>To assign the results of a calculation to a new variable we use an assignment operator which is typed &lt;-.<br>To the left of the arrow is the name of the new variable and to the right is the calculation.\n",
    "* a. The formula for determining the proportion of male births is $$\\dfrac{numberMaleBirths}{numberMaleBirths + numberFemaleBirths}$$ <br>Use the correct variable names and the assignment operator to create two new variables `prop.male.now` and `prop.male.then`.\n",
    "* b. The new variables you have created are not part of the data sets so you need not reference the data set name to use them. Use the `summary(`&lt;variable&gt;`)` to summarize these two new variables.\n",
    "* c. Draw what conclusions you can from each summary then by comparing the two summaries."
   ]
  },
  {
   "cell_type": "markdown",
   "metadata": {
    "editable": false
   },
   "source": [
    "## Answer 5a."
   ]
  },
  {
   "cell_type": "code",
   "execution_count": null,
   "metadata": {},
   "outputs": [],
   "source": [
    "Type code in this block."
   ]
  },
  {
   "cell_type": "markdown",
   "metadata": {
    "editable": false
   },
   "source": [
    "## Answer 5b."
   ]
  },
  {
   "cell_type": "code",
   "execution_count": null,
   "metadata": {},
   "outputs": [],
   "source": [
    "Type code in this block."
   ]
  },
  {
   "cell_type": "markdown",
   "metadata": {
    "editable": false
   },
   "source": [
    "## Answer 5c."
   ]
  },
  {
   "cell_type": "markdown",
   "metadata": {},
   "source": [
    "Type your answer in this block."
   ]
  },
  {
   "cell_type": "markdown",
   "metadata": {
    "editable": false
   },
   "source": [
    "## Question 6. Introduction to graphing\n",
    "In future tutorials we will explore other types of graphs. For now let's look at how to create a scatterplot.<br>\n",
    "* a. Use the `plot(x=`&lt;variable&gt;`,y=`&lt;variable`)` to make a scatterplot with the year on the x-axis and the proportion of male births on the y-axis for the `arbuthnot` data set.\n",
    "* b. Estimate the year that the maximum proportion of male births occured.\n",
    "* c. Using the `present` data, plot the proportion of male births by year and estimate the year that maximum proportion of male births occured."
   ]
  },
  {
   "cell_type": "markdown",
   "metadata": {
    "editable": false
   },
   "source": [
    "## Answer 6a."
   ]
  },
  {
   "cell_type": "code",
   "execution_count": null,
   "metadata": {},
   "outputs": [],
   "source": [
    "Type code in this block."
   ]
  },
  {
   "cell_type": "markdown",
   "metadata": {
    "editable": false
   },
   "source": [
    "## Answer 6b."
   ]
  },
  {
   "cell_type": "markdown",
   "metadata": {},
   "source": [
    "Type your answer in this block."
   ]
  },
  {
   "cell_type": "markdown",
   "metadata": {
    "editable": false
   },
   "source": [
    "## Answer 6c."
   ]
  },
  {
   "cell_type": "code",
   "execution_count": null,
   "metadata": {},
   "outputs": [],
   "source": [
    "Type code in this block."
   ]
  },
  {
   "cell_type": "markdown",
   "metadata": {},
   "source": [
    "Type your answer in this block."
   ]
  },
  {
   "cell_type": "markdown",
   "metadata": {
    "editable": false
   },
   "source": [
    "## Question 7. Using the \"R commands used so far\" document\n",
    "Look up how to use the `which.max` command and how to look up a particular value in a data list with square brackets.<BR>Use those commands to determine when the maximum number of births, male births, and female births occured for each data set.\n",
    "* Bonus: find when the minimums occured as well."
   ]
  },
  {
   "cell_type": "code",
   "execution_count": null,
   "metadata": {},
   "outputs": [],
   "source": [
    "Type code in this block."
   ]
  },
  {
   "cell_type": "markdown",
   "metadata": {
    "editable": false
   },
   "source": [
    "---\n",
    "---\n",
    "#### This tutorial is released under a Creative Commons Attribution-ShareAlike 3.0 Unported.\n",
    "\n",
    "This tutorial has been adapted from a lab that  was adapted for OpenIntro by Andrew Bray and Mine Çetinkaya-Rundel from a lab written by Mark Hansen of UCLA Statistics.\n",
    "\n",
    "---\n",
    "---"
   ]
  }
 ],
 "metadata": {
  "celltoolbar": "Edit Metadata",
  "kernelspec": {
   "display_name": "R",
   "language": "R",
   "name": "ir"
  },
  "language_info": {
   "codemirror_mode": "r",
   "file_extension": ".r",
   "mimetype": "text/x-r-source",
   "name": "R",
   "pygments_lexer": "r",
   "version": "3.6.1"
  }
 },
 "nbformat": 4,
 "nbformat_minor": 2
}
